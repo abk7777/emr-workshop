{
 "cells": [
  {
   "cell_type": "code",
   "execution_count": 2,
   "id": "4147b5d6",
   "metadata": {},
   "outputs": [
    {
     "data": {
      "application/vnd.jupyter.widget-view+json": {
       "model_id": "756334e7bd134f498b35002534c92941",
       "version_major": 2,
       "version_minor": 0
      },
      "text/plain": [
       "VBox()"
      ]
     },
     "metadata": {},
     "output_type": "display_data"
    },
    {
     "data": {
      "application/vnd.jupyter.widget-view+json": {
       "model_id": "",
       "version_major": 2,
       "version_minor": 0
      },
      "text/plain": [
       "FloatProgress(value=0.0, bar_style='info', description='Progress:', layout=Layout(height='25px', width='50%'),…"
      ]
     },
     "metadata": {},
     "output_type": "display_data"
    }
   ],
   "source": [
    "import sys\n",
    "from datetime import datetime\n",
    "\n",
    "from pyspark.sql import SparkSession\n",
    "from pyspark.sql.functions import *"
   ]
  },
  {
   "cell_type": "code",
   "execution_count": 3,
   "id": "24608de1",
   "metadata": {},
   "outputs": [
    {
     "data": {
      "application/vnd.jupyter.widget-view+json": {
       "model_id": "66e2c1a337ca44d992dd629da8f5bae4",
       "version_major": 2,
       "version_minor": 0
      },
      "text/plain": [
       "VBox()"
      ]
     },
     "metadata": {},
     "output_type": "display_data"
    },
    {
     "data": {
      "application/vnd.jupyter.widget-view+json": {
       "model_id": "",
       "version_major": 2,
       "version_minor": 0
      },
      "text/plain": [
       "FloatProgress(value=0.0, bar_style='info', description='Progress:', layout=Layout(height='25px', width='50%'),…"
      ]
     },
     "metadata": {},
     "output_type": "display_data"
    }
   ],
   "source": [
    "input_data_path = 's3://dev-emrworkshop-data-810526023897-us-west-1/input/'\n",
    "output_data_path = 's3://dev-emrworkshop-data-810526023897-us-west-1/output/spark'"
   ]
  },
  {
   "cell_type": "code",
   "execution_count": 4,
   "id": "cbc0c2c2",
   "metadata": {},
   "outputs": [
    {
     "data": {
      "application/vnd.jupyter.widget-view+json": {
       "model_id": "a883b890a02649f69a0eacddf432db9d",
       "version_major": 2,
       "version_minor": 0
      },
      "text/plain": [
       "VBox()"
      ]
     },
     "metadata": {},
     "output_type": "display_data"
    },
    {
     "data": {
      "application/vnd.jupyter.widget-view+json": {
       "model_id": "",
       "version_major": 2,
       "version_minor": 0
      },
      "text/plain": [
       "FloatProgress(value=0.0, bar_style='info', description='Progress:', layout=Layout(height='25px', width='50%'),…"
      ]
     },
     "metadata": {},
     "output_type": "display_data"
    }
   ],
   "source": [
    "spark = SparkSession\\\n",
    "    .builder\\\n",
    "    .appName(\"SparkETL\")\\\n",
    "    .getOrCreate()"
   ]
  },
  {
   "cell_type": "code",
   "execution_count": 5,
   "id": "f2dad701",
   "metadata": {},
   "outputs": [
    {
     "data": {
      "application/vnd.jupyter.widget-view+json": {
       "model_id": "75a54926bf574951b635367ee23edc95",
       "version_major": 2,
       "version_minor": 0
      },
      "text/plain": [
       "VBox()"
      ]
     },
     "metadata": {},
     "output_type": "display_data"
    },
    {
     "data": {
      "application/vnd.jupyter.widget-view+json": {
       "model_id": "",
       "version_major": 2,
       "version_minor": 0
      },
      "text/plain": [
       "FloatProgress(value=0.0, bar_style='info', description='Progress:', layout=Layout(height='25px', width='50%'),…"
      ]
     },
     "metadata": {},
     "output_type": "display_data"
    }
   ],
   "source": [
    "nyTaxi = spark.read \\\n",
    "    .option(\"inferSchema\", \"true\") \\\n",
    "    .option(\"header\", \"true\") \\\n",
    "    .csv(input_data_path)"
   ]
  },
  {
   "cell_type": "code",
   "execution_count": 9,
   "id": "f5f32bc4",
   "metadata": {},
   "outputs": [
    {
     "data": {
      "application/vnd.jupyter.widget-view+json": {
       "model_id": "ae50d538b3934a46adb1fc351bce5af3",
       "version_major": 2,
       "version_minor": 0
      },
      "text/plain": [
       "VBox()"
      ]
     },
     "metadata": {},
     "output_type": "display_data"
    },
    {
     "data": {
      "application/vnd.jupyter.widget-view+json": {
       "model_id": "",
       "version_major": 2,
       "version_minor": 0
      },
      "text/plain": [
       "FloatProgress(value=0.0, bar_style='info', description='Progress:', layout=Layout(height='25px', width='50%'),…"
      ]
     },
     "metadata": {},
     "output_type": "display_data"
    },
    {
     "name": "stdout",
     "output_type": "stream",
     "text": [
      "root\n",
      " |-- VendorID: integer (nullable = true)\n",
      " |-- lpep_pickup_datetime: string (nullable = true)\n",
      " |-- lpep_dropoff_datetime: string (nullable = true)\n",
      " |-- store_and_fwd_flag: string (nullable = true)\n",
      " |-- RatecodeID: integer (nullable = true)\n",
      " |-- PULocationID: integer (nullable = true)\n",
      " |-- DOLocationID: integer (nullable = true)\n",
      " |-- passenger_count: integer (nullable = true)\n",
      " |-- trip_distance: double (nullable = true)\n",
      " |-- fare_amount: double (nullable = true)\n",
      " |-- extra: double (nullable = true)\n",
      " |-- mta_tax: double (nullable = true)\n",
      " |-- tip_amount: double (nullable = true)\n",
      " |-- tolls_amount: double (nullable = true)\n",
      " |-- ehail_fee: string (nullable = true)\n",
      " |-- improvement_surcharge: double (nullable = true)\n",
      " |-- total_amount: double (nullable = true)\n",
      " |-- payment_type: integer (nullable = true)\n",
      " |-- trip_type: integer (nullable = true)"
     ]
    }
   ],
   "source": [
    "nyTaxi.printSchema()"
   ]
  },
  {
   "cell_type": "code",
   "execution_count": 8,
   "id": "262d553c",
   "metadata": {},
   "outputs": [
    {
     "data": {
      "application/vnd.jupyter.widget-view+json": {
       "model_id": "4e3ea2b26f3a47a3b0ecaa4d46f6d221",
       "version_major": 2,
       "version_minor": 0
      },
      "text/plain": [
       "VBox()"
      ]
     },
     "metadata": {},
     "output_type": "display_data"
    },
    {
     "data": {
      "application/vnd.jupyter.widget-view+json": {
       "model_id": "",
       "version_major": 2,
       "version_minor": 0
      },
      "text/plain": [
       "FloatProgress(value=0.0, bar_style='info', description='Progress:', layout=Layout(height='25px', width='50%'),…"
      ]
     },
     "metadata": {},
     "output_type": "display_data"
    }
   ],
   "source": [
    "updatedNYTaxi = nyTaxi.withColumn(\"current_date\", lit(datetime.now()))"
   ]
  },
  {
   "cell_type": "code",
   "execution_count": 10,
   "id": "6252e7ff",
   "metadata": {},
   "outputs": [
    {
     "data": {
      "application/vnd.jupyter.widget-view+json": {
       "model_id": "6a615a9b61c14b10ac11c0647e0a812d",
       "version_major": 2,
       "version_minor": 0
      },
      "text/plain": [
       "VBox()"
      ]
     },
     "metadata": {},
     "output_type": "display_data"
    },
    {
     "data": {
      "application/vnd.jupyter.widget-view+json": {
       "model_id": "",
       "version_major": 2,
       "version_minor": 0
      },
      "text/plain": [
       "FloatProgress(value=0.0, bar_style='info', description='Progress:', layout=Layout(height='25px', width='50%'),…"
      ]
     },
     "metadata": {},
     "output_type": "display_data"
    },
    {
     "name": "stdout",
     "output_type": "stream",
     "text": [
      "root\n",
      " |-- VendorID: integer (nullable = true)\n",
      " |-- lpep_pickup_datetime: string (nullable = true)\n",
      " |-- lpep_dropoff_datetime: string (nullable = true)\n",
      " |-- store_and_fwd_flag: string (nullable = true)\n",
      " |-- RatecodeID: integer (nullable = true)\n",
      " |-- PULocationID: integer (nullable = true)\n",
      " |-- DOLocationID: integer (nullable = true)\n",
      " |-- passenger_count: integer (nullable = true)\n",
      " |-- trip_distance: double (nullable = true)\n",
      " |-- fare_amount: double (nullable = true)\n",
      " |-- extra: double (nullable = true)\n",
      " |-- mta_tax: double (nullable = true)\n",
      " |-- tip_amount: double (nullable = true)\n",
      " |-- tolls_amount: double (nullable = true)\n",
      " |-- ehail_fee: string (nullable = true)\n",
      " |-- improvement_surcharge: double (nullable = true)\n",
      " |-- total_amount: double (nullable = true)\n",
      " |-- payment_type: integer (nullable = true)\n",
      " |-- trip_type: integer (nullable = true)\n",
      " |-- current_date: timestamp (nullable = false)"
     ]
    }
   ],
   "source": [
    "updatedNYTaxi.printSchema()"
   ]
  },
  {
   "cell_type": "code",
   "execution_count": 13,
   "id": "b049d375",
   "metadata": {
    "scrolled": false
   },
   "outputs": [
    {
     "data": {
      "application/vnd.jupyter.widget-view+json": {
       "model_id": "87d38c7a746a4fee82e61431e50ac88b",
       "version_major": 2,
       "version_minor": 0
      },
      "text/plain": [
       "VBox()"
      ]
     },
     "metadata": {},
     "output_type": "display_data"
    },
    {
     "data": {
      "application/vnd.jupyter.widget-view+json": {
       "model_id": "",
       "version_major": 2,
       "version_minor": 0
      },
      "text/plain": [
       "FloatProgress(value=0.0, bar_style='info', description='Progress:', layout=Layout(height='25px', width='50%'),…"
      ]
     },
     "metadata": {},
     "output_type": "display_data"
    },
    {
     "name": "stdout",
     "output_type": "stream",
     "text": [
      "-RECORD 0-------------------------------------------\n",
      " VendorID              | 2                          \n",
      " lpep_pickup_datetime  | 1/1/17 0:01                \n",
      " lpep_dropoff_datetime | 1/1/17 0:11                \n",
      " store_and_fwd_flag    | N                          \n",
      " RatecodeID            | 1                          \n",
      " PULocationID          | 42                         \n",
      " DOLocationID          | 166                        \n",
      " passenger_count       | 1                          \n",
      " trip_distance         | 1.71                       \n",
      " fare_amount           | 9.0                        \n",
      " extra                 | 0.0                        \n",
      " mta_tax               | 0.5                        \n",
      " tip_amount            | 0.0                        \n",
      " tolls_amount          | 0.0                        \n",
      " ehail_fee             | null                       \n",
      " improvement_surcharge | 0.3                        \n",
      " total_amount          | 9.8                        \n",
      " payment_type          | 2                          \n",
      " trip_type             | 1                          \n",
      " current_date          | 2022-10-09 02:17:58.508691 \n",
      "-RECORD 1-------------------------------------------\n",
      " VendorID              | 2                          \n",
      " lpep_pickup_datetime  | 1/1/17 0:03                \n",
      " lpep_dropoff_datetime | 1/1/17 0:09                \n",
      " store_and_fwd_flag    | N                          \n",
      " RatecodeID            | 1                          \n",
      " PULocationID          | 75                         \n",
      " DOLocationID          | 74                         \n",
      " passenger_count       | 1                          \n",
      " trip_distance         | 1.44                       \n",
      " fare_amount           | 6.5                        \n",
      " extra                 | 0.5                        \n",
      " mta_tax               | 0.5                        \n",
      " tip_amount            | 0.0                        \n",
      " tolls_amount          | 0.0                        \n",
      " ehail_fee             | null                       \n",
      " improvement_surcharge | 0.3                        \n",
      " total_amount          | 7.8                        \n",
      " payment_type          | 2                          \n",
      " trip_type             | 1                          \n",
      " current_date          | 2022-10-09 02:17:58.508691 \n",
      "-RECORD 2-------------------------------------------\n",
      " VendorID              | 2                          \n",
      " lpep_pickup_datetime  | 1/1/17 0:04                \n",
      " lpep_dropoff_datetime | 1/1/17 0:12                \n",
      " store_and_fwd_flag    | N                          \n",
      " RatecodeID            | 1                          \n",
      " PULocationID          | 82                         \n",
      " DOLocationID          | 70                         \n",
      " passenger_count       | 5                          \n",
      " trip_distance         | 3.45                       \n",
      " fare_amount           | 12.0                       \n",
      " extra                 | 0.5                        \n",
      " mta_tax               | 0.5                        \n",
      " tip_amount            | 2.66                       \n",
      " tolls_amount          | 0.0                        \n",
      " ehail_fee             | null                       \n",
      " improvement_surcharge | 0.3                        \n",
      " total_amount          | 15.96                      \n",
      " payment_type          | 1                          \n",
      " trip_type             | 1                          \n",
      " current_date          | 2022-10-09 02:17:58.508691 \n",
      "-RECORD 3-------------------------------------------\n",
      " VendorID              | 2                          \n",
      " lpep_pickup_datetime  | 1/1/17 0:01                \n",
      " lpep_dropoff_datetime | 1/1/17 0:14                \n",
      " store_and_fwd_flag    | N                          \n",
      " RatecodeID            | 1                          \n",
      " PULocationID          | 255                        \n",
      " DOLocationID          | 232                        \n",
      " passenger_count       | 1                          \n",
      " trip_distance         | 2.11                       \n",
      " fare_amount           | 10.5                       \n",
      " extra                 | 0.5                        \n",
      " mta_tax               | 0.5                        \n",
      " tip_amount            | 0.0                        \n",
      " tolls_amount          | 0.0                        \n",
      " ehail_fee             | null                       \n",
      " improvement_surcharge | 0.3                        \n",
      " total_amount          | 11.8                       \n",
      " payment_type          | 2                          \n",
      " trip_type             | 1                          \n",
      " current_date          | 2022-10-09 02:17:58.508691 \n",
      "-RECORD 4-------------------------------------------\n",
      " VendorID              | 2                          \n",
      " lpep_pickup_datetime  | 1/1/17 0:00                \n",
      " lpep_dropoff_datetime | 1/1/17 0:18                \n",
      " store_and_fwd_flag    | N                          \n",
      " RatecodeID            | 1                          \n",
      " PULocationID          | 166                        \n",
      " DOLocationID          | 239                        \n",
      " passenger_count       | 1                          \n",
      " trip_distance         | 2.76                       \n",
      " fare_amount           | 11.5                       \n",
      " extra                 | 0.5                        \n",
      " mta_tax               | 0.5                        \n",
      " tip_amount            | 0.0                        \n",
      " tolls_amount          | 0.0                        \n",
      " ehail_fee             | null                       \n",
      " improvement_surcharge | 0.3                        \n",
      " total_amount          | 12.8                       \n",
      " payment_type          | 2                          \n",
      " trip_type             | 1                          \n",
      " current_date          | 2022-10-09 02:17:58.508691 \n",
      "-RECORD 5-------------------------------------------\n",
      " VendorID              | 2                          \n",
      " lpep_pickup_datetime  | 1/1/17 0:00                \n",
      " lpep_dropoff_datetime | 1/1/17 0:13                \n",
      " store_and_fwd_flag    | N                          \n",
      " RatecodeID            | 1                          \n",
      " PULocationID          | 179                        \n",
      " DOLocationID          | 226                        \n",
      " passenger_count       | 1                          \n",
      " trip_distance         | 4.14                       \n",
      " fare_amount           | 15.0                       \n",
      " extra                 | 0.5                        \n",
      " mta_tax               | 0.5                        \n",
      " tip_amount            | 0.0                        \n",
      " tolls_amount          | 0.0                        \n",
      " ehail_fee             | null                       \n",
      " improvement_surcharge | 0.3                        \n",
      " total_amount          | 16.3                       \n",
      " payment_type          | 1                          \n",
      " trip_type             | 1                          \n",
      " current_date          | 2022-10-09 02:17:58.508691 \n",
      "-RECORD 6-------------------------------------------\n",
      " VendorID              | 2                          \n",
      " lpep_pickup_datetime  | 1/1/17 0:02                \n",
      " lpep_dropoff_datetime | 1/1/17 0:26                \n",
      " store_and_fwd_flag    | N                          \n",
      " RatecodeID            | 1                          \n",
      " PULocationID          | 74                         \n",
      " DOLocationID          | 167                        \n",
      " passenger_count       | 1                          \n",
      " trip_distance         | 4.22                       \n",
      " fare_amount           | 19.0                       \n",
      " extra                 | 0.5                        \n",
      " mta_tax               | 0.5                        \n",
      " tip_amount            | 0.0                        \n",
      " tolls_amount          | 0.0                        \n",
      " ehail_fee             | null                       \n",
      " improvement_surcharge | 0.3                        \n",
      " total_amount          | 20.3                       \n",
      " payment_type          | 2                          \n",
      " trip_type             | 1                          \n",
      " current_date          | 2022-10-09 02:17:58.508691 \n",
      "-RECORD 7-------------------------------------------\n",
      " VendorID              | 2                          \n",
      " lpep_pickup_datetime  | 1/1/17 0:15                \n",
      " lpep_dropoff_datetime | 1/1/17 0:28                \n",
      " store_and_fwd_flag    | N                          \n",
      " RatecodeID            | 1                          \n",
      " PULocationID          | 112                        \n",
      " DOLocationID          | 37                         \n",
      " passenger_count       | 1                          \n",
      " trip_distance         | 2.83                       \n",
      " fare_amount           | 11.0                       \n",
      " extra                 | 0.5                        \n",
      " mta_tax               | 0.5                        \n",
      " tip_amount            | 0.0                        \n",
      " tolls_amount          | 0.0                        \n",
      " ehail_fee             | null                       \n",
      " improvement_surcharge | 0.3                        \n",
      " total_amount          | 12.3                       \n",
      " payment_type          | 2                          \n",
      " trip_type             | 1                          \n",
      " current_date          | 2022-10-09 02:17:58.508691 \n",
      "-RECORD 8-------------------------------------------\n",
      " VendorID              | 2                          \n",
      " lpep_pickup_datetime  | 1/1/17 0:06                \n",
      " lpep_dropoff_datetime | 1/1/17 0:11                \n",
      " store_and_fwd_flag    | N                          \n",
      " RatecodeID            | 1                          \n",
      " PULocationID          | 36                         \n",
      " DOLocationID          | 37                         \n",
      " passenger_count       | 1                          \n",
      " trip_distance         | 0.78                       \n",
      " fare_amount           | 5.0                        \n",
      " extra                 | 0.5                        \n",
      " mta_tax               | 0.5                        \n",
      " tip_amount            | 0.0                        \n",
      " tolls_amount          | 0.0                        \n",
      " ehail_fee             | null                       \n",
      " improvement_surcharge | 0.3                        \n",
      " total_amount          | 6.3                        \n",
      " payment_type          | 2                          \n",
      " trip_type             | 1                          \n",
      " current_date          | 2022-10-09 02:17:58.508691 \n",
      "-RECORD 9-------------------------------------------\n",
      " VendorID              | 2                          \n",
      " lpep_pickup_datetime  | 1/1/17 0:14                \n",
      " lpep_dropoff_datetime | 1/1/17 0:28                \n",
      " store_and_fwd_flag    | N                          \n",
      " RatecodeID            | 1                          \n",
      " PULocationID          | 127                        \n",
      " DOLocationID          | 174                        \n",
      " passenger_count       | 5                          \n",
      " trip_distance         | 3.49                       \n",
      " fare_amount           | 13.5                       \n",
      " extra                 | 0.5                        \n",
      " mta_tax               | 0.5                        \n",
      " tip_amount            | 0.0                        \n",
      " tolls_amount          | 0.0                        \n",
      " ehail_fee             | null                       \n",
      " improvement_surcharge | 0.3                        \n",
      " total_amount          | 14.8                       \n",
      " payment_type          | 2                          \n",
      " trip_type             | 1                          \n",
      " current_date          | 2022-10-09 02:17:58.508691 \n",
      "-RECORD 10------------------------------------------\n",
      " VendorID              | 2                          \n",
      " lpep_pickup_datetime  | 1/1/17 0:01                \n",
      " lpep_dropoff_datetime | 1/1/17 0:09                \n",
      " store_and_fwd_flag    | N                          \n",
      " RatecodeID            | 1                          \n",
      " PULocationID          | 41                         \n",
      " DOLocationID          | 238                        \n",
      " passenger_count       | 1                          \n",
      " trip_distance         | 1.61                       \n",
      " fare_amount           | 8.5                        \n",
      " extra                 | 0.5                        \n",
      " mta_tax               | 0.5                        \n",
      " tip_amount            | 1.96                       \n",
      " tolls_amount          | 0.0                        \n",
      " ehail_fee             | null                       \n",
      " improvement_surcharge | 0.3                        \n",
      " total_amount          | 11.76                      \n",
      " payment_type          | 1                          \n",
      " trip_type             | 1                          \n",
      " current_date          | 2022-10-09 02:17:58.508691 \n",
      "-RECORD 11------------------------------------------\n",
      " VendorID              | 2                          \n",
      " lpep_pickup_datetime  | 1/1/17 0:31                \n",
      " lpep_dropoff_datetime | 1/1/17 0:52                \n",
      " store_and_fwd_flag    | N                          \n",
      " RatecodeID            | 1                          \n",
      " PULocationID          | 97                         \n",
      " DOLocationID          | 228                        \n",
      " passenger_count       | 1                          \n",
      " trip_distance         | 5.63                       \n",
      " fare_amount           | 21.0                       \n",
      " extra                 | 0.5                        \n",
      " mta_tax               | 0.5                        \n",
      " tip_amount            | 1.0                        \n",
      " tolls_amount          | 0.0                        \n",
      " ehail_fee             | null                       \n",
      " improvement_surcharge | 0.3                        \n",
      " total_amount          | 23.3                       \n",
      " payment_type          | 1                          \n",
      " trip_type             | 1                          \n",
      " current_date          | 2022-10-09 02:17:58.508691 \n",
      "-RECORD 12------------------------------------------\n",
      " VendorID              | 2                          \n",
      " lpep_pickup_datetime  | 1/1/17 0:01                \n",
      " lpep_dropoff_datetime | 1/1/17 0:22                \n",
      " store_and_fwd_flag    | N                          \n",
      " RatecodeID            | 1                          \n",
      " PULocationID          | 255                        \n",
      " DOLocationID          | 26                         \n",
      " passenger_count       | 5                          \n",
      " trip_distance         | 10.24                      \n",
      " fare_amount           | 30.0                       \n",
      " extra                 | 0.5                        \n",
      " mta_tax               | 0.5                        \n",
      " tip_amount            | 0.0                        \n",
      " tolls_amount          | 0.0                        \n",
      " ehail_fee             | null                       \n",
      " improvement_surcharge | 0.3                        \n",
      " total_amount          | 31.3                       \n",
      " payment_type          | 2                          \n",
      " trip_type             | 1                          \n",
      " current_date          | 2022-10-09 02:17:58.508691 \n",
      "-RECORD 13------------------------------------------\n",
      " VendorID              | 2                          \n",
      " lpep_pickup_datetime  | 1/1/17 0:00                \n",
      " lpep_dropoff_datetime | 1/1/17 0:09                \n",
      " store_and_fwd_flag    | N                          \n",
      " RatecodeID            | 1                          \n",
      " PULocationID          | 70                         \n",
      " DOLocationID          | 173                        \n",
      " passenger_count       | 1                          \n",
      " trip_distance         | 0.97                       \n",
      " fare_amount           | 7.0                        \n",
      " extra                 | 0.5                        \n",
      " mta_tax               | 0.5                        \n",
      " tip_amount            | 0.0                        \n",
      " tolls_amount          | 0.0                        \n",
      " ehail_fee             | null                       \n",
      " improvement_surcharge | 0.3                        \n",
      " total_amount          | 8.3                        \n",
      " payment_type          | 1                          \n",
      " trip_type             | 1                          \n",
      " current_date          | 2022-10-09 02:17:58.508691 \n",
      "-RECORD 14------------------------------------------\n",
      " VendorID              | 2                          \n",
      " lpep_pickup_datetime  | 1/1/17 0:03                \n",
      " lpep_dropoff_datetime | 1/1/17 0:18                \n",
      " store_and_fwd_flag    | N                          \n",
      " RatecodeID            | 1                          \n",
      " PULocationID          | 255                        \n",
      " DOLocationID          | 40                         \n",
      " passenger_count       | 1                          \n",
      " trip_distance         | 5.56                       \n",
      " fare_amount           | 18.5                       \n",
      " extra                 | 0.5                        \n",
      " mta_tax               | 0.5                        \n",
      " tip_amount            | 5.94                       \n",
      " tolls_amount          | 0.0                        \n",
      " ehail_fee             | null                       \n",
      " improvement_surcharge | 0.3                        \n",
      " total_amount          | 25.74                      \n",
      " payment_type          | 1                          \n",
      " trip_type             | 1                          \n",
      " current_date          | 2022-10-09 02:17:58.508691 \n",
      "-RECORD 15------------------------------------------\n",
      " VendorID              | 2                          \n",
      " lpep_pickup_datetime  | 1/1/17 0:03                \n",
      " lpep_dropoff_datetime | 1/1/17 0:03                \n",
      " store_and_fwd_flag    | N                          \n",
      " RatecodeID            | 1                          \n",
      " PULocationID          | 82                         \n",
      " DOLocationID          | 260                        \n",
      " passenger_count       | 1                          \n",
      " trip_distance         | 1.75                       \n",
      " fare_amount           | 10.0                       \n",
      " extra                 | 0.5                        \n",
      " mta_tax               | 0.5                        \n",
      " tip_amount            | 0.0                        \n",
      " tolls_amount          | 0.0                        \n",
      " ehail_fee             | null                       \n",
      " improvement_surcharge | 0.3                        \n",
      " total_amount          | 11.3                       \n",
      " payment_type          | 2                          \n",
      " trip_type             | 1                          \n",
      " current_date          | 2022-10-09 02:17:58.508691 \n",
      "-RECORD 16------------------------------------------\n",
      " VendorID              | 2                          \n",
      " lpep_pickup_datetime  | 1/1/17 0:00                \n",
      " lpep_dropoff_datetime | 1/1/17 0:00                \n",
      " store_and_fwd_flag    | N                          \n",
      " RatecodeID            | 5                          \n",
      " PULocationID          | 36                         \n",
      " DOLocationID          | 36                         \n",
      " passenger_count       | 1                          \n",
      " trip_distance         | 0.0                        \n",
      " fare_amount           | 3.0                        \n",
      " extra                 | 0.0                        \n",
      " mta_tax               | 0.0                        \n",
      " tip_amount            | 0.0                        \n",
      " tolls_amount          | 0.0                        \n",
      " ehail_fee             | null                       \n",
      " improvement_surcharge | 0.0                        \n",
      " total_amount          | 3.0                        \n",
      " payment_type          | 1                          \n",
      " trip_type             | 2                          \n",
      " current_date          | 2022-10-09 02:17:58.508691 \n",
      "-RECORD 17------------------------------------------\n",
      " VendorID              | 2                          \n",
      " lpep_pickup_datetime  | 1/1/17 0:01                \n",
      " lpep_dropoff_datetime | 1/1/17 0:11                \n",
      " store_and_fwd_flag    | N                          \n",
      " RatecodeID            | 1                          \n",
      " PULocationID          | 7                          \n",
      " DOLocationID          | 223                        \n",
      " passenger_count       | 1                          \n",
      " trip_distance         | 2.0                        \n",
      " fare_amount           | 9.0                        \n",
      " extra                 | 0.5                        \n",
      " mta_tax               | 0.5                        \n",
      " tip_amount            | 2.06                       \n",
      " tolls_amount          | 0.0                        \n",
      " ehail_fee             | null                       \n",
      " improvement_surcharge | 0.3                        \n",
      " total_amount          | 12.36                      \n",
      " payment_type          | 1                          \n",
      " trip_type             | 1                          \n",
      " current_date          | 2022-10-09 02:17:58.508691 \n",
      "-RECORD 18------------------------------------------\n",
      " VendorID              | 2                          \n",
      " lpep_pickup_datetime  | 1/1/17 0:26                \n",
      " lpep_dropoff_datetime | 1/1/17 0:38                \n",
      " store_and_fwd_flag    | N                          \n",
      " RatecodeID            | 1                          \n",
      " PULocationID          | 256                        \n",
      " DOLocationID          | 106                        \n",
      " passenger_count       | 1                          \n",
      " trip_distance         | 5.48                       \n",
      " fare_amount           | 17.0                       \n",
      " extra                 | 0.5                        \n",
      " mta_tax               | 0.5                        \n",
      " tip_amount            | 3.29                       \n",
      " tolls_amount          | 0.0                        \n",
      " ehail_fee             | null                       \n",
      " improvement_surcharge | 0.3                        \n",
      " total_amount          | 21.59                      \n",
      " payment_type          | 1                          \n",
      " trip_type             | 1                          \n",
      " current_date          | 2022-10-09 02:17:58.508691 \n",
      "-RECORD 19------------------------------------------\n",
      " VendorID              | 2                          \n",
      " lpep_pickup_datetime  | 1/1/17 0:49                \n",
      " lpep_dropoff_datetime | 1/1/17 1:00                \n",
      " store_and_fwd_flag    | N                          \n",
      " RatecodeID            | 1                          \n",
      " PULocationID          | 181                        \n",
      " DOLocationID          | 228                        \n",
      " passenger_count       | 1                          \n",
      " trip_distance         | 2.0                        \n",
      " fare_amount           | 10.5                       \n",
      " extra                 | 0.5                        \n",
      " mta_tax               | 0.5                        \n",
      " tip_amount            | 0.0                        \n",
      " tolls_amount          | 0.0                        \n",
      " ehail_fee             | null                       \n",
      " improvement_surcharge | 0.3                        \n",
      " total_amount          | 11.8                       \n",
      " payment_type          | 2                          \n",
      " trip_type             | 1                          \n",
      " current_date          | 2022-10-09 02:17:58.508691 \n",
      "only showing top 20 rows\n",
      "\n",
      "None\n",
      "Total number of records: 20000"
     ]
    }
   ],
   "source": [
    "print(updatedNYTaxi.show(vertical=True, truncate=False))\n",
    "print(\"Total number of records: \" + str(updatedNYTaxi.count()))"
   ]
  },
  {
   "cell_type": "code",
   "execution_count": 16,
   "id": "06363fda",
   "metadata": {},
   "outputs": [
    {
     "data": {
      "application/vnd.jupyter.widget-view+json": {
       "model_id": "aaa6a00618ec4794935e873452b74219",
       "version_major": 2,
       "version_minor": 0
      },
      "text/plain": [
       "VBox()"
      ]
     },
     "metadata": {},
     "output_type": "display_data"
    },
    {
     "data": {
      "application/vnd.jupyter.widget-view+json": {
       "model_id": "",
       "version_major": 2,
       "version_minor": 0
      },
      "text/plain": [
       "FloatProgress(value=0.0, bar_style='info', description='Progress:', layout=Layout(height='25px', width='50%'),…"
      ]
     },
     "metadata": {},
     "output_type": "display_data"
    }
   ],
   "source": [
    "updatedNYTaxi.write \\\n",
    "    .mode('overwrite') \\\n",
    "    .parquet(output_data_path)"
   ]
  }
 ],
 "metadata": {
  "kernelspec": {
   "display_name": "PySpark",
   "language": "",
   "name": "pysparkkernel"
  },
  "language_info": {
   "codemirror_mode": {
    "name": "python",
    "version": 3
   },
   "mimetype": "text/x-python",
   "name": "pyspark",
   "pygments_lexer": "python3"
  }
 },
 "nbformat": 4,
 "nbformat_minor": 5
}
